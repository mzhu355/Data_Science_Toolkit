{
 "cells": [
  {
   "cell_type": "code",
   "execution_count": 1,
   "id": "4bacd6b9",
   "metadata": {},
   "outputs": [],
   "source": [
    "import pandas as pd"
   ]
  },
  {
   "cell_type": "code",
   "execution_count": 3,
   "id": "69e1d63c",
   "metadata": {},
   "outputs": [],
   "source": [
    "playlists = pd.read_csv(\"playlists_with_dates.csv\")\n",
    "playlists_merged_genres = pd.read_csv(\"unique_songs_with_dates.csv\")"
   ]
  },
  {
   "cell_type": "code",
   "execution_count": 14,
   "id": "3a962814",
   "metadata": {},
   "outputs": [],
   "source": [
    "track_artist_genre = playlists_merged_genres[[\"Track\",\"Artist\",\"Genre\"]]\n",
    "playlists_without_genre = playlists.drop(\"Genre\",axis=1)"
   ]
  },
  {
   "cell_type": "code",
   "execution_count": 20,
   "id": "fcc0f226",
   "metadata": {},
   "outputs": [],
   "source": [
    "playlists_final = pd.merge(playlists_without_genre, track_artist_genre, on=[\"Track\",\"Artist\"], how=\"inner\")\n",
    "playlists_final = playlists_final.drop_duplicates()"
   ]
  },
  {
   "cell_type": "code",
   "execution_count": 21,
   "id": "8c0ac78f",
   "metadata": {},
   "outputs": [],
   "source": [
    "playlists_final.to_csv(\"playlists_with_dates_genres.csv\", index=False)"
   ]
  }
 ],
 "metadata": {
  "kernelspec": {
   "display_name": "Python 3 (ipykernel)",
   "language": "python",
   "name": "python3"
  },
  "language_info": {
   "codemirror_mode": {
    "name": "ipython",
    "version": 3
   },
   "file_extension": ".py",
   "mimetype": "text/x-python",
   "name": "python",
   "nbconvert_exporter": "python",
   "pygments_lexer": "ipython3",
   "version": "3.9.17"
  }
 },
 "nbformat": 4,
 "nbformat_minor": 5
}
